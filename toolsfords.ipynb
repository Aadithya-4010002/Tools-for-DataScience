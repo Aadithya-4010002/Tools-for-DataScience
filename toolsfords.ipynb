{
 "cells": [
  {
   "cell_type": "code",
   "execution_count": null,
   "id": "0d8dda7e-4cc9-44eb-8df2-85e23f8532c0",
   "metadata": {},
   "outputs": [],
   "source": [
    "# Data Science Notebook"
   ]
  },
  {
   "cell_type": "code",
   "execution_count": null,
   "id": "219b3cda-b578-426a-b12b-4c45dd0d0dc7",
   "metadata": {},
   "outputs": [],
   "source": [
    "## Introduction\n",
    "\n",
    "Welcome to this Data Science Notebook! In this notebook, \n",
    "we will explore various aspects of data science, including programming languages, libraries, tools, and more.\n"
   ]
  },
  {
   "cell_type": "code",
   "execution_count": null,
   "id": "dc1fc68c-a91f-4580-aea6-f6309f2424e4",
   "metadata": {},
   "outputs": [],
   "source": [
    "## Data Science Languages\n",
    "\n",
    "- Python\n",
    "- R\n",
    "- Julia\n",
    "- SQL\n"
   ]
  },
  {
   "cell_type": "code",
   "execution_count": null,
   "id": "7db55f8f-ef69-4791-adda-4ead0a986668",
   "metadata": {},
   "outputs": [],
   "source": [
    "## Data Science Libraries\n",
    "\n",
    "- NumPy\n",
    "- Pandas\n",
    "- Matplotlib\n",
    "- Seaborn\n",
    "- Scikit-learn\n"
   ]
  },
  {
   "cell_type": "code",
   "execution_count": null,
   "id": "1203d954-e662-4951-b2ed-73cc532857d8",
   "metadata": {},
   "outputs": [],
   "source": [
    "## Data Science Tools\n",
    "\n",
    "| Category         | Tools                     |\n",
    "|------------------|---------------------------|\n",
    "| Version Control | Git, GitHub               |\n",
    "| Data Collection | Web Scraping, APIs        |\n",
    "| Data Cleaning    | OpenRefine, Pandas        |\n",
    "| Visualization   | Matplotlib, Tableau       |\n",
    "| Machine Learning | Scikit-learn, TensorFlow  |\n"
   ]
  },
  {
   "cell_type": "code",
   "execution_count": null,
   "id": "e9433943-5a71-49fe-a9ae-fea60547d377",
   "metadata": {},
   "outputs": [],
   "source": [
    "## Arithmetic Expression Examples\n",
    "\n",
    "Let us explore some basic arithmetic expressions using Python.\n"
   ]
  },
  {
   "cell_type": "code",
   "execution_count": null,
   "id": "d8b9a68e-b604-4440-832e-8432008ed056",
   "metadata": {},
   "outputs": [],
   "source": [
    "# Multiplication and Addition\n",
    "x = 5\n",
    "y = 3\n",
    "multiplication_result = x * y\n",
    "addition_result = x + y\n",
    "\n",
    "multiplication_result, addition_result\n"
   ]
  },
  {
   "cell_type": "code",
   "execution_count": null,
   "id": "a156edb3-bad3-4b7b-b2de-1c052381c19e",
   "metadata": {},
   "outputs": [],
   "source": [
    "# Convert Minutes to Hours\n",
    "def convert_minutes_to_hours(minutes):\n",
    "    hours = minutes / 60\n",
    "    return hours\n",
    "\n",
    "minutes = 120\n",
    "hours = convert_minutes_to_hours(minutes)\n",
    "hours\n"
   ]
  },
  {
   "cell_type": "code",
   "execution_count": null,
   "id": "4a297d1e-5ac9-48bd-b3d8-0a8cfe58bc30",
   "metadata": {},
   "outputs": [],
   "source": [
    "## Objectives\n",
    "\n",
    "In this notebook, we will:\n",
    "\n",
    "- Explore data science languages and libraries.\n",
    "- Learn about essential data science tools.\n",
    "- Practice basic arithmetic expressions in Python.\n"
   ]
  },
  {
   "cell_type": "code",
   "execution_count": null,
   "id": "bff20bfa-8a7f-47fd-b506-0d41a5cb8fdb",
   "metadata": {},
   "outputs": [],
   "source": [
    "## Author\n",
    "\n",
    "This notebook was created by Aadithya Ram.\n"
   ]
  }
 ],
 "metadata": {
  "kernelspec": {
   "display_name": "Python 3 (ipykernel)",
   "language": "python",
   "name": "python3"
  },
  "language_info": {
   "codemirror_mode": {
    "name": "ipython",
    "version": 3
   },
   "file_extension": ".py",
   "mimetype": "text/x-python",
   "name": "python",
   "nbconvert_exporter": "python",
   "pygments_lexer": "ipython3",
   "version": "3.11.4"
  }
 },
 "nbformat": 4,
 "nbformat_minor": 5
}
